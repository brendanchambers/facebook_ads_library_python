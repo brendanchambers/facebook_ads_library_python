{
 "cells": [
  {
   "cell_type": "code",
   "execution_count": null,
   "metadata": {},
   "outputs": [],
   "source": [
    "#   get facebook ads library data\n",
    "\n",
    "# convenience notebook for running the (extended) facebook python command line tool\n",
    "#   this could also be run as a bash script if that's more convenient"
   ]
  },
  {
   "cell_type": "code",
   "execution_count": null,
   "metadata": {},
   "outputs": [],
   "source": [
    "# note - the facebook project is a little buggy for non-example queries,\n",
    "#   since they only implemented limited functionality\n",
    "\n",
    "#   e.g. ad_delivery_start_time is a mandatory field\n",
    "#        fb_adds_library_api.py  line 103/104   checks start time\n",
    "\n",
    "#   todo  organizing demographic and region data to export to csv\n",
    "#    same for spend, impressions\n",
    "#   todo implement search capabilities for byline, publisher_platform fields"
   ]
  },
  {
   "cell_type": "code",
   "execution_count": 2,
   "metadata": {},
   "outputs": [],
   "source": [
    "import requests\n",
    "import json"
   ]
  },
  {
   "cell_type": "markdown",
   "metadata": {},
   "source": [
    "# search active ads"
   ]
  },
  {
   "cell_type": "code",
   "execution_count": 13,
   "metadata": {},
   "outputs": [
    {
     "name": "stdout",
     "output_type": "stream",
     "text": [
      "Items wrote: 500\n",
      "Items wrote: 1000\n",
      "Items wrote: 1500\n",
      "Items wrote: 2000\n",
      "Items wrote: 2500\n",
      "Items wrote: 3000\n",
      "Items wrote: 3500\n",
      "Items wrote: 4000\n",
      "Items wrote: 4500\n",
      "Items wrote: 5000\n",
      "Items wrote: 5500\n",
      "Items wrote: 5586\n",
      "Total number of ads wrote: 5586\n"
     ]
    }
   ],
   "source": [
    "%%bash\n",
    "\n",
    "source config\n",
    "\n",
    "query=\"coronavirus\"\n",
    "\n",
    "fields=\"ad_creation_time,\\\n",
    "ad_delivery_start_time,\\\n",
    "ad_delivery_stop_time,\\\n",
    "spend,\\\n",
    "funding_entity,\\\n",
    "currency,\\\n",
    "page_name,\\\n",
    "page_id,\\\n",
    "ad_creative_body,\\\n",
    "ad_creative_link_caption,\\\n",
    "ad_creative_link_description,\\\n",
    "ad_creative_link_title,\\\n",
    "ad_snapshot_url,\\\n",
    "impressions,\\\n",
    "demographic_distribution,\\\n",
    "region_distribution\"\n",
    "\n",
    "country=\"US\"\n",
    "\n",
    "target_json=\"data/coronavirus_march13_90days.json\"\n",
    "\n",
    "python fb_ads_library_api_cli.py \\\n",
    "    -t $secret_code \\\n",
    "    -f $fields \\\n",
    "    -c $country \\\n",
    "    -s 'coronavirus' \\\n",
    "    -v \\\n",
    "    --ad-active-status \"all\" \\\n",
    "    --ad-type \"political_and_issue_ads\" \\\n",
    "    --impression-condition \"has_impressions_last_90_days\" \\\n",
    "    save $target_json\n"
   ]
  },
  {
   "cell_type": "markdown",
   "metadata": {},
   "source": [
    "# convert to csv for easier sharing"
   ]
  },
  {
   "cell_type": "code",
   "execution_count": 9,
   "metadata": {},
   "outputs": [],
   "source": [
    "import pandas as pd\n",
    "\n",
    "json_path = \"data/coronavirus_march13_90days.json\"\n",
    "csv_path = \"data/coronavirus_march13_90days.csv\"\n",
    "\n",
    "df = pd.read_json(json_path, orient=\"records\",lines=True)\n",
    "df.to_csv(csv_path)\n"
   ]
  },
  {
   "cell_type": "code",
   "execution_count": null,
   "metadata": {},
   "outputs": [],
   "source": []
  }
 ],
 "metadata": {
  "kernelspec": {
   "display_name": "Python 3",
   "language": "python",
   "name": "python3"
  },
  "language_info": {
   "codemirror_mode": {
    "name": "ipython",
    "version": 3
   },
   "file_extension": ".py",
   "mimetype": "text/x-python",
   "name": "python",
   "nbconvert_exporter": "python",
   "pygments_lexer": "ipython3",
   "version": "3.8.1"
  }
 },
 "nbformat": 4,
 "nbformat_minor": 2
}
