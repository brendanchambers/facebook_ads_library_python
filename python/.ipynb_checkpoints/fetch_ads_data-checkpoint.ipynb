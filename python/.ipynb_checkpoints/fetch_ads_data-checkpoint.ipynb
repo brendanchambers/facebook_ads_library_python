{
 "cells": [
  {
   "cell_type": "code",
   "execution_count": null,
   "metadata": {},
   "outputs": [],
   "source": [
    "#   get facebook ads library data\n",
    "\n",
    "# convenience notebook for running the (extended) facebook python command line tool\n",
    "#   this could also be run as a bash script if that's more convenient"
   ]
  },
  {
   "cell_type": "code",
   "execution_count": null,
   "metadata": {},
   "outputs": [],
   "source": [
    "# note - the facebook project is a little buggy for non-example queries,\n",
    "#   since they only implemented limited functionality\n",
    "\n",
    "#   e.g. ad_delivery_start_time is a mandatory field\n",
    "#        fb_adds_library_api.py  line 103/104   checks start time\n",
    "\n",
    "#   todo  organizing demographic and region data to export to csv\n",
    "#    same for spend, impressions\n",
    "#   todo implement search capabilities for byline, publisher_platform fields"
   ]
  },
  {
   "cell_type": "code",
   "execution_count": 2,
   "metadata": {},
   "outputs": [],
   "source": [
    "import requests\n",
    "import json"
   ]
  },
  {
   "cell_type": "markdown",
   "metadata": {},
   "source": [
    "# search active ads"
   ]
  },
  {
   "cell_type": "code",
   "execution_count": 11,
   "metadata": {},
   "outputs": [
    {
     "name": "stdout",
     "output_type": "stream",
     "text": [
      "code=EAAJgl4u4PMUBAP9QicWXSOaWoqWRZAh2B0rYPnBzK41x1Got0ZBdZBlw3UrrNG2SWVrnMZApZCZAYkpc2ZByCCXQS0ubWPZCbxsrHd0eRCZB9pjDCL1yAty0ZBIomHCcoqR96pAllfh8Nhfm4ZCR1ZCCOfuu8TleURFc5Rn0ctJoP9Bq54ZCbheDGXJMt\n"
     ]
    },
    {
     "name": "stderr",
     "output_type": "stream",
     "text": [
      "usage: fb_ads_library_api_cli.py [-h] -t ACCESS_TOKEN -f FIELDS\n",
      "                                 [-s SEARCH_TERM] -c COUNTRY\n",
      "                                 [--search-page-ids SEARCH_PAGE_IDS]\n",
      "                                 [--ad-active-status AD_ACTIVE_STATUS]\n",
      "                                 [--ad-type AD_TYPE]\n",
      "                                 [--impression-condition IMPRESSION_CONDITION]\n",
      "                                 [--after-date AFTER_DATE]\n",
      "                                 [--batch-size BATCH_SIZE]\n",
      "                                 [--retry-limit RETRY_LIMIT] [-v]\n",
      "                                 action ...\n",
      "fb_ads_library_api_cli.py: error: argument -t/--access-token: expected one argument\n"
     ]
    },
    {
     "ename": "CalledProcessError",
     "evalue": "Command 'b'\\nsource config\\necho \"code=$secret_code\"\\n\\nquery=\"coronavirus\"\\n\\nfields=\"ad_creation_time,\\\\\\nad_delivery_start_time,\\\\\\nad_delivery_stop_time,\\\\\\nspend,\\\\\\nfunding_entity,\\\\\\ncurrency,\\\\\\npage_name,\\\\\\npage_id,\\\\\\nad_creative_body,\\\\\\nad_creative_link_caption,\\\\\\nad_creative_link_description,\\\\\\nad_creative_link_title,\\\\\\nad_snapshot_url,\\\\\\nimpressions,\\\\\\ndemographic_distribution,\\\\\\nregion_distribution\"\\n\\ncountry=\"US\"\\n\\ntarget_json=\"data/coronavirus_march13_90days.json\"\\n\\naccess_code=\\n\\npython fb_ads_library_api_cli.py \\\\\\n    -t $access_code \\\\\\n    -f $fields \\\\\\n    -c $country \\\\\\n    -s \\'coronavirus\\' \\\\\\n    -v \\\\\\n    --ad-active-status \"all\" \\\\\\n    --ad-type \"political_and_issue_ads\" \\\\\\n    --impression-condition \"has_impressions_last_90_days\" \\\\\\n    save $target_json\\n'' returned non-zero exit status 2.",
     "output_type": "error",
     "traceback": [
      "\u001b[0;31m---------------------------------------------------------------------------\u001b[0m",
      "\u001b[0;31mCalledProcessError\u001b[0m                        Traceback (most recent call last)",
      "\u001b[0;32m<ipython-input-11-3931a43c94f4>\u001b[0m in \u001b[0;36m<module>\u001b[0;34m\u001b[0m\n\u001b[0;32m----> 1\u001b[0;31m \u001b[0mget_ipython\u001b[0m\u001b[0;34m(\u001b[0m\u001b[0;34m)\u001b[0m\u001b[0;34m.\u001b[0m\u001b[0mrun_cell_magic\u001b[0m\u001b[0;34m(\u001b[0m\u001b[0;34m'bash'\u001b[0m\u001b[0;34m,\u001b[0m \u001b[0;34m''\u001b[0m\u001b[0;34m,\u001b[0m \u001b[0;34m'\\nsource config\\necho \"code=$secret_code\"\\n\\nquery=\"coronavirus\"\\n\\nfields=\"ad_creation_time,\\\\\\nad_delivery_start_time,\\\\\\nad_delivery_stop_time,\\\\\\nspend,\\\\\\nfunding_entity,\\\\\\ncurrency,\\\\\\npage_name,\\\\\\npage_id,\\\\\\nad_creative_body,\\\\\\nad_creative_link_caption,\\\\\\nad_creative_link_description,\\\\\\nad_creative_link_title,\\\\\\nad_snapshot_url,\\\\\\nimpressions,\\\\\\ndemographic_distribution,\\\\\\nregion_distribution\"\\n\\ncountry=\"US\"\\n\\ntarget_json=\"data/coronavirus_march13_90days.json\"\\n\\naccess_code=\\n\\npython fb_ads_library_api_cli.py \\\\\\n    -t $access_code \\\\\\n    -f $fields \\\\\\n    -c $country \\\\\\n    -s \\'coronavirus\\' \\\\\\n    -v \\\\\\n    --ad-active-status \"all\" \\\\\\n    --ad-type \"political_and_issue_ads\" \\\\\\n    --impression-condition \"has_impressions_last_90_days\" \\\\\\n    save $target_json\\n'\u001b[0m\u001b[0;34m)\u001b[0m\u001b[0;34m\u001b[0m\u001b[0;34m\u001b[0m\u001b[0m\n\u001b[0m",
      "\u001b[0;32m~/anaconda3/envs/facebook-ads-env/lib/python3.8/site-packages/IPython/core/interactiveshell.py\u001b[0m in \u001b[0;36mrun_cell_magic\u001b[0;34m(self, magic_name, line, cell)\u001b[0m\n\u001b[1;32m   2360\u001b[0m             \u001b[0;32mwith\u001b[0m \u001b[0mself\u001b[0m\u001b[0;34m.\u001b[0m\u001b[0mbuiltin_trap\u001b[0m\u001b[0;34m:\u001b[0m\u001b[0;34m\u001b[0m\u001b[0;34m\u001b[0m\u001b[0m\n\u001b[1;32m   2361\u001b[0m                 \u001b[0margs\u001b[0m \u001b[0;34m=\u001b[0m \u001b[0;34m(\u001b[0m\u001b[0mmagic_arg_s\u001b[0m\u001b[0;34m,\u001b[0m \u001b[0mcell\u001b[0m\u001b[0;34m)\u001b[0m\u001b[0;34m\u001b[0m\u001b[0;34m\u001b[0m\u001b[0m\n\u001b[0;32m-> 2362\u001b[0;31m                 \u001b[0mresult\u001b[0m \u001b[0;34m=\u001b[0m \u001b[0mfn\u001b[0m\u001b[0;34m(\u001b[0m\u001b[0;34m*\u001b[0m\u001b[0margs\u001b[0m\u001b[0;34m,\u001b[0m \u001b[0;34m**\u001b[0m\u001b[0mkwargs\u001b[0m\u001b[0;34m)\u001b[0m\u001b[0;34m\u001b[0m\u001b[0;34m\u001b[0m\u001b[0m\n\u001b[0m\u001b[1;32m   2363\u001b[0m             \u001b[0;32mreturn\u001b[0m \u001b[0mresult\u001b[0m\u001b[0;34m\u001b[0m\u001b[0;34m\u001b[0m\u001b[0m\n\u001b[1;32m   2364\u001b[0m \u001b[0;34m\u001b[0m\u001b[0m\n",
      "\u001b[0;32m~/anaconda3/envs/facebook-ads-env/lib/python3.8/site-packages/IPython/core/magics/script.py\u001b[0m in \u001b[0;36mnamed_script_magic\u001b[0;34m(line, cell)\u001b[0m\n\u001b[1;32m    140\u001b[0m             \u001b[0;32melse\u001b[0m\u001b[0;34m:\u001b[0m\u001b[0;34m\u001b[0m\u001b[0;34m\u001b[0m\u001b[0m\n\u001b[1;32m    141\u001b[0m                 \u001b[0mline\u001b[0m \u001b[0;34m=\u001b[0m \u001b[0mscript\u001b[0m\u001b[0;34m\u001b[0m\u001b[0;34m\u001b[0m\u001b[0m\n\u001b[0;32m--> 142\u001b[0;31m             \u001b[0;32mreturn\u001b[0m \u001b[0mself\u001b[0m\u001b[0;34m.\u001b[0m\u001b[0mshebang\u001b[0m\u001b[0;34m(\u001b[0m\u001b[0mline\u001b[0m\u001b[0;34m,\u001b[0m \u001b[0mcell\u001b[0m\u001b[0;34m)\u001b[0m\u001b[0;34m\u001b[0m\u001b[0;34m\u001b[0m\u001b[0m\n\u001b[0m\u001b[1;32m    143\u001b[0m \u001b[0;34m\u001b[0m\u001b[0m\n\u001b[1;32m    144\u001b[0m         \u001b[0;31m# write a basic docstring:\u001b[0m\u001b[0;34m\u001b[0m\u001b[0;34m\u001b[0m\u001b[0;34m\u001b[0m\u001b[0m\n",
      "\u001b[0;32m</home/brch/anaconda3/envs/facebook-ads-env/lib/python3.8/site-packages/decorator.py:decorator-gen-110>\u001b[0m in \u001b[0;36mshebang\u001b[0;34m(self, line, cell)\u001b[0m\n",
      "\u001b[0;32m~/anaconda3/envs/facebook-ads-env/lib/python3.8/site-packages/IPython/core/magic.py\u001b[0m in \u001b[0;36m<lambda>\u001b[0;34m(f, *a, **k)\u001b[0m\n\u001b[1;32m    185\u001b[0m     \u001b[0;31m# but it's overkill for just that one bit of state.\u001b[0m\u001b[0;34m\u001b[0m\u001b[0;34m\u001b[0m\u001b[0;34m\u001b[0m\u001b[0m\n\u001b[1;32m    186\u001b[0m     \u001b[0;32mdef\u001b[0m \u001b[0mmagic_deco\u001b[0m\u001b[0;34m(\u001b[0m\u001b[0marg\u001b[0m\u001b[0;34m)\u001b[0m\u001b[0;34m:\u001b[0m\u001b[0;34m\u001b[0m\u001b[0;34m\u001b[0m\u001b[0m\n\u001b[0;32m--> 187\u001b[0;31m         \u001b[0mcall\u001b[0m \u001b[0;34m=\u001b[0m \u001b[0;32mlambda\u001b[0m \u001b[0mf\u001b[0m\u001b[0;34m,\u001b[0m \u001b[0;34m*\u001b[0m\u001b[0ma\u001b[0m\u001b[0;34m,\u001b[0m \u001b[0;34m**\u001b[0m\u001b[0mk\u001b[0m\u001b[0;34m:\u001b[0m \u001b[0mf\u001b[0m\u001b[0;34m(\u001b[0m\u001b[0;34m*\u001b[0m\u001b[0ma\u001b[0m\u001b[0;34m,\u001b[0m \u001b[0;34m**\u001b[0m\u001b[0mk\u001b[0m\u001b[0;34m)\u001b[0m\u001b[0;34m\u001b[0m\u001b[0;34m\u001b[0m\u001b[0m\n\u001b[0m\u001b[1;32m    188\u001b[0m \u001b[0;34m\u001b[0m\u001b[0m\n\u001b[1;32m    189\u001b[0m         \u001b[0;32mif\u001b[0m \u001b[0mcallable\u001b[0m\u001b[0;34m(\u001b[0m\u001b[0marg\u001b[0m\u001b[0;34m)\u001b[0m\u001b[0;34m:\u001b[0m\u001b[0;34m\u001b[0m\u001b[0;34m\u001b[0m\u001b[0m\n",
      "\u001b[0;32m~/anaconda3/envs/facebook-ads-env/lib/python3.8/site-packages/IPython/core/magics/script.py\u001b[0m in \u001b[0;36mshebang\u001b[0;34m(self, line, cell)\u001b[0m\n\u001b[1;32m    243\u001b[0m             \u001b[0msys\u001b[0m\u001b[0;34m.\u001b[0m\u001b[0mstderr\u001b[0m\u001b[0;34m.\u001b[0m\u001b[0mflush\u001b[0m\u001b[0;34m(\u001b[0m\u001b[0;34m)\u001b[0m\u001b[0;34m\u001b[0m\u001b[0;34m\u001b[0m\u001b[0m\n\u001b[1;32m    244\u001b[0m         \u001b[0;32mif\u001b[0m \u001b[0margs\u001b[0m\u001b[0;34m.\u001b[0m\u001b[0mraise_error\u001b[0m \u001b[0;32mand\u001b[0m \u001b[0mp\u001b[0m\u001b[0;34m.\u001b[0m\u001b[0mreturncode\u001b[0m\u001b[0;34m!=\u001b[0m\u001b[0;36m0\u001b[0m\u001b[0;34m:\u001b[0m\u001b[0;34m\u001b[0m\u001b[0;34m\u001b[0m\u001b[0m\n\u001b[0;32m--> 245\u001b[0;31m             \u001b[0;32mraise\u001b[0m \u001b[0mCalledProcessError\u001b[0m\u001b[0;34m(\u001b[0m\u001b[0mp\u001b[0m\u001b[0;34m.\u001b[0m\u001b[0mreturncode\u001b[0m\u001b[0;34m,\u001b[0m \u001b[0mcell\u001b[0m\u001b[0;34m,\u001b[0m \u001b[0moutput\u001b[0m\u001b[0;34m=\u001b[0m\u001b[0mout\u001b[0m\u001b[0;34m,\u001b[0m \u001b[0mstderr\u001b[0m\u001b[0;34m=\u001b[0m\u001b[0merr\u001b[0m\u001b[0;34m)\u001b[0m\u001b[0;34m\u001b[0m\u001b[0;34m\u001b[0m\u001b[0m\n\u001b[0m\u001b[1;32m    246\u001b[0m \u001b[0;34m\u001b[0m\u001b[0m\n\u001b[1;32m    247\u001b[0m     \u001b[0;32mdef\u001b[0m \u001b[0m_run_script\u001b[0m\u001b[0;34m(\u001b[0m\u001b[0mself\u001b[0m\u001b[0;34m,\u001b[0m \u001b[0mp\u001b[0m\u001b[0;34m,\u001b[0m \u001b[0mcell\u001b[0m\u001b[0;34m,\u001b[0m \u001b[0mto_close\u001b[0m\u001b[0;34m)\u001b[0m\u001b[0;34m:\u001b[0m\u001b[0;34m\u001b[0m\u001b[0;34m\u001b[0m\u001b[0m\n",
      "\u001b[0;31mCalledProcessError\u001b[0m: Command 'b'\\nsource config\\necho \"code=$secret_code\"\\n\\nquery=\"coronavirus\"\\n\\nfields=\"ad_creation_time,\\\\\\nad_delivery_start_time,\\\\\\nad_delivery_stop_time,\\\\\\nspend,\\\\\\nfunding_entity,\\\\\\ncurrency,\\\\\\npage_name,\\\\\\npage_id,\\\\\\nad_creative_body,\\\\\\nad_creative_link_caption,\\\\\\nad_creative_link_description,\\\\\\nad_creative_link_title,\\\\\\nad_snapshot_url,\\\\\\nimpressions,\\\\\\ndemographic_distribution,\\\\\\nregion_distribution\"\\n\\ncountry=\"US\"\\n\\ntarget_json=\"data/coronavirus_march13_90days.json\"\\n\\naccess_code=\\n\\npython fb_ads_library_api_cli.py \\\\\\n    -t $access_code \\\\\\n    -f $fields \\\\\\n    -c $country \\\\\\n    -s \\'coronavirus\\' \\\\\\n    -v \\\\\\n    --ad-active-status \"all\" \\\\\\n    --ad-type \"political_and_issue_ads\" \\\\\\n    --impression-condition \"has_impressions_last_90_days\" \\\\\\n    save $target_json\\n'' returned non-zero exit status 2."
     ]
    }
   ],
   "source": [
    "%%bash\n",
    "\n",
    "source config\n",
    "\n",
    "query=\"coronavirus\"\n",
    "\n",
    "fields=\"ad_creation_time,\\\n",
    "ad_delivery_start_time,\\\n",
    "ad_delivery_stop_time,\\\n",
    "spend,\\\n",
    "funding_entity,\\\n",
    "currency,\\\n",
    "page_name,\\\n",
    "page_id,\\\n",
    "ad_creative_body,\\\n",
    "ad_creative_link_caption,\\\n",
    "ad_creative_link_description,\\\n",
    "ad_creative_link_title,\\\n",
    "ad_snapshot_url,\\\n",
    "impressions,\\\n",
    "demographic_distribution,\\\n",
    "region_distribution\"\n",
    "\n",
    "country=\"US\"\n",
    "\n",
    "target_json=\"data/coronavirus_march13_90days.json\"\n",
    "\n",
    "access_code=\n",
    "\n",
    "python fb_ads_library_api_cli.py \\\n",
    "    -t $secret_code \\\n",
    "    -f $fields \\\n",
    "    -c $country \\\n",
    "    -s 'coronavirus' \\\n",
    "    -v \\\n",
    "    --ad-active-status \"all\" \\\n",
    "    --ad-type \"political_and_issue_ads\" \\\n",
    "    --impression-condition \"has_impressions_last_90_days\" \\\n",
    "    save $target_json\n"
   ]
  },
  {
   "cell_type": "markdown",
   "metadata": {},
   "source": [
    "# convert to csv for easier sharing"
   ]
  },
  {
   "cell_type": "code",
   "execution_count": 9,
   "metadata": {},
   "outputs": [],
   "source": [
    "import pandas as pd\n",
    "\n",
    "json_path = \"data/coronavirus_march13_90days.json\"\n",
    "csv_path = \"data/coronavirus_march13_90days.csv\"\n",
    "\n",
    "df = pd.read_json(json_path, orient=\"records\",lines=True)\n",
    "df.to_csv(csv_path)\n"
   ]
  },
  {
   "cell_type": "code",
   "execution_count": null,
   "metadata": {},
   "outputs": [],
   "source": []
  }
 ],
 "metadata": {
  "kernelspec": {
   "display_name": "Python 3",
   "language": "python",
   "name": "python3"
  },
  "language_info": {
   "codemirror_mode": {
    "name": "ipython",
    "version": 3
   },
   "file_extension": ".py",
   "mimetype": "text/x-python",
   "name": "python",
   "nbconvert_exporter": "python",
   "pygments_lexer": "ipython3",
   "version": "3.8.1"
  }
 },
 "nbformat": 4,
 "nbformat_minor": 2
}
